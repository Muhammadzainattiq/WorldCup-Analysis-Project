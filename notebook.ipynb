{
  "nbformat": 4,
  "nbformat_minor": 0,
  "metadata": {
    "colab": {
      "provenance": []
    },
    "kernelspec": {
      "name": "python3",
      "display_name": "Python 3"
    },
    "language_info": {
      "name": "python"
    }
  },
  "cells": [
    {
      "cell_type": "markdown",
      "source": [
        "# **Project Name: World Cup 2023 Data Analysis**"
      ],
      "metadata": {
        "id": "tCRl11XvJNS-"
      }
    },
    {
      "cell_type": "code",
      "execution_count": null,
      "metadata": {
        "id": "T9nnMoJxJLLf"
      },
      "outputs": [],
      "source": [
        "import pandas as pd\n",
        "import numpy as np\n",
        "import matplotlib.pyplot as plt\n",
        "import seaborn as sns\n"
      ]
    },
    {
      "cell_type": "code",
      "source": [
        "df = pd.read_csv('/content/CWC23_all_innings.csv')"
      ],
      "metadata": {
        "id": "B2-t-C_OJiTo"
      },
      "execution_count": null,
      "outputs": []
    },
    {
      "cell_type": "code",
      "source": [
        "df.head()"
      ],
      "metadata": {
        "id": "v96v_O2HKDgS"
      },
      "execution_count": null,
      "outputs": []
    },
    {
      "cell_type": "code",
      "source": [
        "df.tail()"
      ],
      "metadata": {
        "id": "nZaTuNf4KEYe"
      },
      "execution_count": null,
      "outputs": []
    },
    {
      "cell_type": "code",
      "source": [
        "df.info()"
      ],
      "metadata": {
        "id": "RPI3rIgaKFnd"
      },
      "execution_count": null,
      "outputs": []
    },
    {
      "cell_type": "code",
      "source": [
        "df.describe()"
      ],
      "metadata": {
        "id": "SEV-hBpQKRVO"
      },
      "execution_count": null,
      "outputs": []
    },
    {
      "cell_type": "markdown",
      "source": [
        "# ***1. Team Performance Analysis:***"
      ],
      "metadata": {
        "id": "L0dl3My-KYGF"
      }
    },
    {
      "cell_type": "markdown",
      "source": [
        "**- Explore team-wise performance metrics.**"
      ],
      "metadata": {
        "id": "9MnQ5k4VKfKk"
      }
    },
    {
      "cell_type": "code",
      "source": [
        "# Exploring team-wise performance metrics\n",
        "team_performance = df.groupby('team').agg({\n",
        "    'runs': 'sum',\n",
        "    'wkts': 'sum',\n",
        "    'bat_or_bowl': lambda x: x.mode().iloc[0]  # Most frequent value indicates batting or bowling style\n",
        "}).reset_index()\n",
        "\n",
        "# Visualize top-performing teams\n",
        "teams = team_performance.nlargest(10, 'runs')\n",
        "sns.barplot(x='runs', y='team', data=teams, palette='viridis')\n",
        "plt.title('Performance of  Teams - Runs Scored')\n",
        "plt.xlabel('Total Runs Scored')\n",
        "plt.ylabel('Team')\n",
        "plt.show()\n"
      ],
      "metadata": {
        "id": "0rpWOKKMKWZ_"
      },
      "execution_count": null,
      "outputs": []
    },
    {
      "cell_type": "markdown",
      "source": [
        "So the newzeland team has scored most runs and Afghanistan scored the least in the whole tournament. So it shows the teams like Newzeland, Australia and South Africa were the high-scoring teams. While Sirilanka, Bangladesh, Netherland and Afghanistan are among the low scoring teams."
      ],
      "metadata": {
        "id": "hCJwfLZKLWec"
      }
    },
    {
      "cell_type": "code",
      "source": [
        "# a bar chart for the average runs scored by players of each team in increasing order\n",
        "teams = df['team'].unique()\n",
        "\n",
        "team_avg_runs_data = df[df['bat_or_bowl'] == 'bat'].groupby('team').agg({\n",
        "    'runs': 'mean'\n",
        "}).reset_index().sort_values('runs')\n",
        "\n",
        "plt.figure(figsize=(12, 6))\n",
        "sns.barplot(x='team', y='runs', data=team_avg_runs_data, palette='muted')\n",
        "plt.title('Team-wise Average Runs Scored by Players (Increasing Order)')\n",
        "plt.xlabel('Team')\n",
        "plt.ylabel('Average Runs')\n",
        "plt.show()\n",
        "print(team_avg_runs_data.sort_values('runs',ascending = False))"
      ],
      "metadata": {
        "id": "vQLsXffWLeqs"
      },
      "execution_count": null,
      "outputs": []
    },
    {
      "cell_type": "markdown",
      "source": [
        "This graph shows the batting average by the players of each team. The batting average is the average of runs scored by the batters of that team. This is a good way to evaluate the batting performance of a team.The table shows that India is leading it followed by NZ and SA. And BAN, ENG and NED are present down the table."
      ],
      "metadata": {
        "id": "ONQJON62MoVO"
      }
    },
    {
      "cell_type": "code",
      "source": [
        "#a bar chart for the bowling performance by the bowling average of each team in increasing order\n",
        "teams = df['team'].unique()\n",
        "\n",
        "team_bowling_avg_data = df[df['bat_or_bowl'] == 'bowl'].groupby('team').agg({\n",
        "    'runs': 'sum',\n",
        "    'wkts': 'sum'\n",
        "}).reset_index()\n",
        "\n",
        "# Calculate bowling average (runs conceded per wicket)\n",
        "team_bowling_avg_data['bowling_avg'] = team_bowling_avg_data['runs'] / team_bowling_avg_data['wkts']\n",
        "\n",
        "# Sort teams based on bowling average in increasing order\n",
        "team_bowling_avg_data = team_bowling_avg_data.sort_values('bowling_avg')\n",
        "\n",
        "plt.figure(figsize=(12, 6))\n",
        "sns.barplot(x='team', y='bowling_avg', data=team_bowling_avg_data, palette='muted')\n",
        "plt.title('Team-wise Bowling Performance by Bowling Average (Increasing Order)')\n",
        "plt.xlabel('Team')\n",
        "plt.ylabel('Bowling Average (Runs Conceded per Wicket)')\n",
        "plt.show()\n",
        "print(team_bowling_avg_data.sort_values('bowling_avg',ascending = True))\n"
      ],
      "metadata": {
        "id": "xVEq-oZ_N1Hu"
      },
      "execution_count": null,
      "outputs": []
    },
    {
      "cell_type": "markdown",
      "source": [
        "It shows the bowling average of each team. Bowling average represent the no of runs conceded per wicket by the bowler. It is a good way to evaluate the bowling performance by the team. The table and plot shows that India is leading the table with an average of just 20 followed by South Africa and Australia ,while Sirilanka is present down the table with an bowling average of 48"
      ],
      "metadata": {
        "id": "8xedDnOGOEpD"
      }
    },
    {
      "cell_type": "code",
      "source": [
        "#total wickets taken by each team\n",
        "total_wickets_by_team = df.groupby('team')['wkts'].sum().reset_index()\n",
        "total_wickets_by_team = total_wickets_by_team.sort_values('wkts', ascending = False)\n",
        "\n",
        "plt.figure(figsize=(10, 6))\n",
        "sns.barplot(x='wkts', y='team', data=total_wickets_by_team, palette='muted')\n",
        "plt.title('Total Wickets Taken by Each Team')\n",
        "plt.xlabel('Total Wickets Taken')\n",
        "plt.ylabel('Team')\n",
        "\n",
        "# Adjust the x-axis labels for better readability\n",
        "plt.xticks(rotation=45, ha='right')\n",
        "plt.tight_layout()\n",
        "\n",
        "plt.show()\n",
        "print(total_wickets_by_team)"
      ],
      "metadata": {
        "id": "smJwDhCVLeDM"
      },
      "execution_count": null,
      "outputs": []
    },
    {
      "cell_type": "markdown",
      "source": [
        "This graph shows the comparison of wickets taken by each team in the tournament. It is a way to check the wicket-taking ability of the bowlers of a team. It shows that Team india has taken the most wickets i.e. 94 while team Sirilanka has taken the least i.e 50."
      ],
      "metadata": {
        "id": "ccbHn_TPMR85"
      }
    },
    {
      "cell_type": "code",
      "source": [
        "avg_economy_by_team = df.groupby('team')['econ'].mean().reset_index()\n",
        "# Sort the dataframe by average economy in ascending order\n",
        "avg_economy_by_team = avg_economy_by_team.sort_values('econ', ascending=True)\n",
        "\n",
        "# Visualize average economy for each team's bowlers\n",
        "plt.figure(figsize=(10, 6))\n",
        "sns.barplot(x='team', y='econ', data=avg_economy_by_team, palette='viridis')\n",
        "plt.title('Average Economy of Each Team\\'s Bowlers')\n",
        "plt.xlabel('Team')\n",
        "plt.ylabel('Average Economy')\n",
        "\n",
        "# Adjust the x-axis labels for better readability\n",
        "plt.xticks(rotation=45, ha='right')\n",
        "plt.tight_layout()\n",
        "\n",
        "plt.show()\n",
        "print(avg_economy_by_team)"
      ],
      "metadata": {
        "id": "IS702L7QNfgG"
      },
      "execution_count": null,
      "outputs": []
    },
    {
      "cell_type": "markdown",
      "source": [
        "This graph shows the comparisong of economy of the blowlers of each team. Economt is the score hit to the bowler in an over. And it shows the bowling quality of the bowler. Team india has the lowest economy while sirilnkan bowlers bowled expensively and rest of team has plotted above. So Indian Bowlers performed best in the tournament as compared to the bowlers of the rest of the teams followed by Australia and South Africa.\n"
      ],
      "metadata": {
        "id": "TmYU6fj2NyzQ"
      }
    },
    {
      "cell_type": "code",
      "source": [
        "\n",
        "\n",
        "avg_wicketbal_by_team = df.groupby('team')['wicketball_prob'].mean().reset_index()\n",
        "\n",
        "# Sort the dataframe by average wickets/ball in ascending order\n",
        "avg_wicketbal_by_team = avg_wicketbal_by_team.sort_values('wicketball_prob', ascending=True)\n",
        "\n",
        "# Visualize average wickets/ball for each team\n",
        "plt.figure(figsize=(10, 6))\n",
        "sns.barplot(x='team', y='wicketball_prob', data=avg_wicketbal_by_team, palette='viridis')\n",
        "plt.title('Average Wickets/Ball for Each Team')\n",
        "plt.xlabel('Team')\n",
        "plt.ylabel('Average Wickets/Ball')\n",
        "\n",
        "# Adjust the x-axis labels for better readability\n",
        "plt.xticks(rotation=45, ha='right')\n",
        "plt.tight_layout()\n",
        "\n",
        "plt.show()\n",
        "print(avg_wicketbal_by_team)\n"
      ],
      "metadata": {
        "id": "kz5JvfssOKjN"
      },
      "execution_count": null,
      "outputs": []
    },
    {
      "cell_type": "markdown",
      "source": [
        "This graph shows the comparison of Average wickets per ball. Which shows the wicket taking ability of the bowlers of each team. So if we see the average  wickets taken per ball by each team bowlers, We will observe that Afghanistan bowlwers are the worst in wicket taking while sirilankan bowlers although so expensive but very good at taking wickets with a high per ball wicket taking average followed by England, Netherland and Australia."
      ],
      "metadata": {
        "id": "eyU80APHPCs6"
      }
    },
    {
      "cell_type": "code",
      "source": [
        "total_maiden_overs_by_team = df.groupby('team')['mdns'].sum().reset_index()\n",
        "\n",
        "# Sort the dataframe by total maiden overs in ascending order\n",
        "total_maiden_overs_by_team = total_maiden_overs_by_team.sort_values('mdns', ascending=False)\n",
        "\n",
        "# Visualize total maiden overs for each team's bowlers\n",
        "plt.figure(figsize=(10, 6))\n",
        "sns.barplot(x='team', y='mdns', data=total_maiden_overs_by_team, palette='viridis')\n",
        "plt.title('Total Maiden Overs Bowled by Each Team')\n",
        "plt.xlabel('Team')\n",
        "plt.ylabel('Total Maiden Overs')\n",
        "\n",
        "# Adjust the x-axis labels for better readability\n",
        "plt.xticks(rotation=45, ha='right')\n",
        "plt.tight_layout()\n",
        "\n",
        "plt.show()\n",
        "print(total_maiden_overs_by_team)"
      ],
      "metadata": {
        "id": "UkBRYTJ9PwY_"
      },
      "execution_count": null,
      "outputs": []
    },
    {
      "cell_type": "markdown",
      "source": [
        "This graph shows the comparison of no of maiden overs by each team bowlers.So pakistani bowlers bowled the least no of maiden overs while indian bowlers bowled the maximum maiden overs even more than 20.So Indian bowlers are very good at bowling maiden overs."
      ],
      "metadata": {
        "id": "7Qlpoo9YQuR2"
      }
    },
    {
      "cell_type": "code",
      "source": [
        "df.head()\n",
        "total_4s_by_team = df.groupby('team')['4s'].sum().reset_index()\n",
        "\n",
        "# Sort the dataframe by total 4s in ascending order\n",
        "total_4s_by_team = total_4s_by_team.sort_values('4s', ascending=False)\n",
        "\n",
        "# Visualize total 4s for each team\n",
        "plt.figure(figsize=(10, 6))\n",
        "sns.barplot(x='team', y='4s', data=total_4s_by_team, palette='viridis')\n",
        "plt.title('Total 4s Hit by Each Team')\n",
        "plt.xlabel('Team')\n",
        "plt.ylabel('Total 4s')\n",
        "\n",
        "# Adjust the x-axis labels for better readability\n",
        "plt.xticks(rotation=45, ha='right')\n",
        "plt.tight_layout()\n",
        "\n",
        "plt.show()\n",
        "print(total_4s_by_team)\n"
      ],
      "metadata": {
        "id": "s17kgd1rQoI0"
      },
      "execution_count": null,
      "outputs": []
    },
    {
      "cell_type": "code",
      "source": [
        "total_6s_by_team = df.groupby('team')['6s'].sum().reset_index()\n",
        "\n",
        "# Sort the dataframe by total 6s in ascending order\n",
        "total_6s_by_team = total_6s_by_team.sort_values('6s', ascending=True)\n",
        "print(total_6s_by_team)\n",
        "\n",
        "# Visualize total 6s for each team\n",
        "plt.figure(figsize=(10, 6))\n",
        "sns.barplot(x='team', y='6s', data=total_6s_by_team, palette='viridis')\n",
        "plt.title('Total 6s Hit by Each Team')\n",
        "plt.xlabel('Team')\n",
        "plt.ylabel('Total 6s')\n",
        "\n",
        "# Adjust the x-axis labels for better readability\n",
        "plt.xticks(rotation=45, ha='right')\n",
        "plt.tight_layout()\n",
        "\n",
        "plt.show()"
      ],
      "metadata": {
        "id": "QsDAZLwxc7eF"
      },
      "execution_count": null,
      "outputs": []
    },
    {
      "cell_type": "markdown",
      "source": [
        "This graph is a comparison of sixes by each team. It shows the power-hitting ability of teams. As it is shown that South Africa hit the most sixes followed by Australia and India while Nehterlands hit the least no of sixes. It shows that Nz, Ind,Aus and Sa have good power-hitters."
      ],
      "metadata": {
        "id": "4zJ2x9iKeb7r"
      }
    },
    {
      "cell_type": "markdown",
      "source": [
        "## **Top performing teams**\n",
        "\n",
        "So Newzeland, Australia, India and South Africa are amongst the top performing teams depending  upon their runs scored and wickets taken and the economy of their bowlers.\n",
        "\n",
        "\n",
        "*   Australlia  \n",
        "\n",
        "\n",
        "*   India\n",
        "\n",
        "*   South Africa\n",
        "\n",
        "\n",
        "*   Newzeland\n",
        "\n"
      ],
      "metadata": {
        "id": "mwwDrowffgtl"
      }
    },
    {
      "cell_type": "markdown",
      "source": [
        "# **2. Player Performance Analysis:\n",
        "- Evaluate individual player statistics for both batting and bowling.\n",
        "- Identify leading run-scorers and wicket-takers.\n",
        "- Assess the impact of players on their team's performance.**"
      ],
      "metadata": {
        "id": "pntVYBnBgOEs"
      }
    },
    {
      "cell_type": "code",
      "source": [
        "# Evaluating individual player statistics for both batting and bowling\n",
        "player_stats = df.groupby(['team', 'player', 'bat_or_bowl']).agg({\n",
        "    'runs': 'sum',\n",
        "    'wkts': 'sum',\n",
        "    'sr': 'mean'  # Average strike rate\n",
        "}).reset_index()\n",
        "\n",
        "# Display the player statistics\n",
        "player_stats.head()\n"
      ],
      "metadata": {
        "id": "lYJYyInRi2jm"
      },
      "execution_count": null,
      "outputs": []
    },
    {
      "cell_type": "markdown",
      "source": [
        "This a whole table showing the individual statistics of each player with the no of runs he scored , his strike rate while scoring and the no of wickets he taken\n",
        "it also provide the iformation of whether he is a batsman or a bowler."
      ],
      "metadata": {
        "id": "idwuUVTsH8Vu"
      }
    },
    {
      "cell_type": "code",
      "source": [
        "# Evaluating individual player statistics for both batting and bowling\n",
        "player_stats = df.groupby(['team', 'player', 'bat_or_bowl']).agg({\n",
        "    'runs': 'sum',\n",
        "    'wkts': 'sum',\n",
        "    'sr': 'mean'  # You can add more metrics as needed\n",
        "}).reset_index()\n",
        "\n",
        "\n",
        "# Identify leading run-scorers and wicket-takers\n",
        "leading_scorers = player_stats[player_stats['bat_or_bowl'] == 'bat'].nlargest(10, 'runs')\n",
        "leading_wicket_takers = player_stats[player_stats['bat_or_bowl'] == 'bowl'].nlargest(10, 'wkts')\n",
        "\n",
        "# Visualize leading run-scorers\n",
        "sns.barplot(x='runs', y='player', data=leading_scorers, hue='team', palette='muted')\n",
        "plt.title('Leading Run-scorers')\n",
        "plt.xlabel('Total Runs Scored')\n",
        "plt.ylabel('Player')\n",
        "plt.legend(title='Team')\n",
        "plt.show()\n",
        "\n",
        "# Visualize leading wicket-takers\n",
        "sns.barplot(x='wkts', y='player', data=leading_wicket_takers, hue='team', palette='muted')\n",
        "plt.title('Leading Wicket-takers')\n",
        "plt.xlabel('Total Wickets Taken')\n",
        "plt.ylabel('Player')\n",
        "plt.legend(title='Team')\n",
        "plt.show()\n",
        "print(leading_scorers)\n",
        "print(\"-----------------------------------------------------------------\")\n",
        "print(leading_wicket_takers)\n"
      ],
      "metadata": {
        "id": "-Sgu-fZ9fnkE"
      },
      "execution_count": null,
      "outputs": []
    },
    {
      "cell_type": "markdown",
      "source": [
        "The above plots showing the leading run-scorers and leading wicket takers of world-cup 2023. It shows that Virat Kohli is leading the batting board followed by Q de Kock of South Africa and R Ravindra from Newzeland. while Mohammad Shami is leading the bowling board followed by ADam Zampa of Australia and D Madushanka of Sirilanka and rest of the list is shown above."
      ],
      "metadata": {
        "id": "4QfevTSIiEF3"
      }
    },
    {
      "cell_type": "markdown",
      "source": [
        "# **3. Opposition and Ground Analysis:\n",
        "- Investigate how teams and players perform against different oppositions.\n",
        "- Examine performance variations across different playing grounds.\n",
        "- Identify if there are specific teams or players that excel in certain conditions.**"
      ],
      "metadata": {
        "id": "LVjOZpRLlKcS"
      }
    },
    {
      "cell_type": "code",
      "source": [
        "# the individual plots for team-wise performance against different oppositions - Average Runs\n",
        "teams = df['team'].unique()\n",
        "\n",
        "for team in teams:\n",
        "    team_data = df[(df['team'] == team) & (df['bat_or_bowl'] == 'bat')].groupby('opposition').agg({\n",
        "        'runs': 'mean'\n",
        "    }).reset_index().sort_values('runs')\n",
        "\n",
        "    plt.figure(figsize=(10, 5))\n",
        "    sns.barplot(x='runs', y='opposition', data=team_data, palette='muted')\n",
        "    plt.title(f'{team} Performance Against Different Oppositions - Average Runs')\n",
        "    plt.xlabel('Average Runs')\n",
        "    plt.ylabel('Opposition')\n",
        "    plt.show()\n",
        "    print(team_data)\n"
      ],
      "metadata": {
        "id": "wULJgLIVl889"
      },
      "execution_count": null,
      "outputs": []
    },
    {
      "cell_type": "markdown",
      "source": [
        "The above bar charts shows the batting performance by each team against different oppositions in term of the average runs scored by each batter. By observing these graphs we can conclude the performance of different teams against different oppositions.\n",
        "\n",
        "Let's observe the performance of team India against different oppositons in term of their runs scored:\n",
        "\n",
        "> .The average runs scored by team India players was the lowest against England followed by Australia.\n",
        "\n",
        "> .The average runs scored by team India players was highest against Afghanistan and Netherlands.\n",
        "\n",
        "> .And the rest of performances are shown in the plot.\n",
        "\n",
        "> .Similarly we can the performance of desired team against the desired opposition."
      ],
      "metadata": {
        "id": "psh0b7r5I03G"
      }
    },
    {
      "cell_type": "code",
      "source": [
        "#a single bar chart for each batsman's performance against different oppositions - Total Runs\n",
        "batsmen = df[df['bat_or_bowl'] == 'bat']['player'].unique()\n",
        "\n",
        "for batsman in batsmen:\n",
        "    batsman_data = df[(df['player'] == batsman) & (df['bat_or_bowl'] == 'bat')].groupby('opposition').agg({\n",
        "        'runs': 'sum'\n",
        "    }).reset_index().sort_values('runs')\n",
        "\n",
        "    plt.figure(figsize=(10, 5))\n",
        "    sns.barplot(x='runs', y='opposition', data=batsman_data, palette='muted')\n",
        "    plt.title(f'{batsman} Performance Against Different Oppositions - Total Runs')\n",
        "    plt.xlabel('Total Runs')\n",
        "    plt.ylabel('Opposition')\n",
        "    plt.show()\n"
      ],
      "metadata": {
        "id": "1ryb9uJHnaWd"
      },
      "execution_count": null,
      "outputs": []
    },
    {
      "cell_type": "markdown",
      "source": [
        "The above plot shows the performance of each batsmen against different oppositions in term of the average runs scored by the player against that opposition. So by observing the plot of a particular batsman we can include about him that against which team he scores good runs and against which team he struggle to score.\n",
        "if we see towards the performance of Mohammad Rizwan the legend wicket-keeper batasman from Pakistan so:\n",
        "\n",
        "*   He was struggling against Afghanistan, Bangladesh, South Africa and England.\n",
        "*   He was scoring good runs against Sirilanka, Netherlands and India.\n",
        "\n"
      ],
      "metadata": {
        "id": "P-xTAHWiIWgo"
      }
    },
    {
      "cell_type": "code",
      "source": [
        "#individual plots for team-wise performance against different oppositions - Average Economy\n",
        "for team in teams:\n",
        "    team_data = df[(df['team'] == team) & (df['bat_or_bowl'] == 'bowl')].groupby('opposition').agg({\n",
        "        'runs': 'mean',\n",
        "        'econ': 'mean'\n",
        "    }).reset_index().sort_values('econ')\n",
        "\n",
        "    plt.figure(figsize=(10, 5))\n",
        "    sns.barplot(x='econ', y='opposition', data=team_data, palette='muted')\n",
        "    plt.title(f'{team} Performance Against Different Oppositions - Average Economy')\n",
        "    plt.xlabel('Average Economy')\n",
        "    plt.ylabel('Opposition')\n",
        "    plt.show()\n",
        "    print(team_data)\n"
      ],
      "metadata": {
        "id": "SfMZq9OIo9aA"
      },
      "execution_count": null,
      "outputs": []
    },
    {
      "cell_type": "markdown",
      "source": [
        "The above chart is the presentation of each team's bowling performance against different oppositions in term of their average economy rates. It shows the comparison bowling of different teams against against different oppositions. By observing this we can conclude that which team bowled well against which team.\n",
        "\n",
        "So if we observe team India:\n",
        "\n",
        ".Their bowling ecomony was low against Sirilanka, South Africa and England which is a omen for good bowling\n",
        "\n",
        ".Their bowling economy was high against Afghanistan, Newzeland, Bangladesh and Netherland which is a sign of bad bowling.\n",
        "\n",
        ".So we can also observe the performance of the rest of the teams by looking at the respective chart."
      ],
      "metadata": {
        "id": "w32TZWaWLzMD"
      }
    },
    {
      "cell_type": "code",
      "source": [
        "#a single bar chart for each bowler's performance against different oppositions - Average Economy\n",
        "bowlers = df[df['bat_or_bowl'] == 'bowl']['player'].unique()\n",
        "\n",
        "for bowler in bowlers:\n",
        "    bowler_data = df[(df['player'] == bowler) & (df['bat_or_bowl'] == 'bowl')].groupby('opposition').agg({\n",
        "        'econ': 'mean'\n",
        "    }).reset_index().sort_values('econ')\n",
        "\n",
        "    plt.figure(figsize=(10, 5))\n",
        "    sns.barplot(x='econ', y='opposition', data=bowler_data, palette='muted')\n",
        "    plt.title(f'{bowler} Performance Against Different Oppositions - Average Economy')\n",
        "    plt.xlabel('Average Economy')\n",
        "    plt.ylabel('Opposition')\n",
        "    plt.show()\n"
      ],
      "metadata": {
        "id": "D8HxvMKUpqn6"
      },
      "execution_count": null,
      "outputs": []
    },
    {
      "cell_type": "markdown",
      "source": [
        "The above plot shows the bowling economy of each bowler against different oppositions. By observing this we can say about the performance of different bowler against different oppositions.\n",
        "If we observe the performance of Shaheen Shah Afridi from Pakistan So:\n",
        "\n",
        ".His economy was low against Bangladesh, South Africa and Netherland which is a sign of nice bolwing performance.\n",
        "\n",
        ".His economy was high against England, Sirilanka and Newzeland which is a sign of bad bowling performance\n",
        "\n",
        ". We can also observe the performance of the rest of players by looking at their economy rates against different oppositions."
      ],
      "metadata": {
        "id": "qLYlAUciGkF5"
      }
    },
    {
      "cell_type": "code",
      "source": [
        "# individual plots for each team's runs variation across different playing grounds\n",
        "teams = df['team'].unique()\n",
        "\n",
        "for team in teams:\n",
        "    team_runs_data = df[(df['team'] == team) & (df['bat_or_bowl'] == 'bat')].groupby('ground').agg({\n",
        "        'runs': 'mean'\n",
        "    }).reset_index().sort_values('runs')\n",
        "\n",
        "    plt.figure(figsize=(10, 5))\n",
        "    sns.barplot(x='runs', y='ground', data=team_runs_data, palette='muted')\n",
        "    plt.title(f\"{team}'s Runs Variation Across Different Playing Grounds\")\n",
        "    plt.xlabel('Average Runs')\n",
        "    plt.ylabel('Ground')\n",
        "    plt.show()\n",
        "    print(team_runs_data)\n"
      ],
      "metadata": {
        "id": "PRrIyUhasllH"
      },
      "execution_count": null,
      "outputs": []
    },
    {
      "cell_type": "markdown",
      "source": [
        "The above plots shows the average run's scored by players of each team across  different playing grounds. By observing this graph we can conclude about the performances of teams at different locations in term of their batting performance.\n",
        "\n",
        "So if we observe the batting performance of team India at differnt locations so we would be able to conclude that:\n",
        "\n",
        ".Indian batters scored at a good average at Bengaluru, Delhi and Pune with an average of 65, 64 and 51 respectively.\n",
        "\n",
        ".Indian batters scored at a worst average at Lucknow, Chennai and Dharamsala.\n",
        "\n",
        ".In this way we can also observe the batting performance of other teams at different locations and conclude which grounds are suitalbe for which playing team. It is good analysis technique."
      ],
      "metadata": {
        "id": "0dc29yJCGReg"
      }
    },
    {
      "cell_type": "markdown",
      "source": [
        "# **4. Temporal Analysis:\n",
        "- Study performance trends over time, considering start dates and overs played.\n",
        "- Identify any temporal patterns or changes in team and player performance.**"
      ],
      "metadata": {
        "id": "551UDFgZfRYA"
      }
    },
    {
      "cell_type": "code",
      "source": [
        "#The line plots for batting performance trends over time - Player-wise\n",
        "batsmen = df[df['bat_or_bowl'] == 'bat']['player'].unique()\n",
        "\n",
        "for batsman in batsmen:\n",
        "    batsman_data = df[(df['player'] == batsman) & (df['bat_or_bowl'] == 'bat')].groupby('start_date').agg({\n",
        "        'runs': 'mean'\n",
        "    }).reset_index()\n",
        "\n",
        "    plt.figure(figsize=(12, 6))\n",
        "    plt.plot(batsman_data['start_date'], batsman_data['runs'], label='Average Runs')\n",
        "    plt.title(f'{batsman} Batting Performance Trends Over Time (Player-wise)')\n",
        "    plt.xlabel('Start Date')\n",
        "    plt.ylabel('Average Runs')\n",
        "    plt.legend()\n",
        "    plt.show()\n"
      ],
      "metadata": {
        "id": "AIaIn2fDEOWO"
      },
      "execution_count": null,
      "outputs": []
    },
    {
      "cell_type": "markdown",
      "source": [
        "The above line plots shows the batting performance graph of each batsman over time. By observing these plots we can see the changes in the performance of players with time."
      ],
      "metadata": {
        "id": "Kfz65XX8mUrA"
      }
    },
    {
      "cell_type": "code",
      "source": [
        "# the line plots for batting performance trends over time - Team-wise\n",
        "teams = df['team'].unique()\n",
        "\n",
        "for team in teams:\n",
        "    team_data = df[(df['team'] == team) & (df['bat_or_bowl'] == 'bat')].groupby('start_date').agg({\n",
        "        'runs': 'mean'\n",
        "    }).reset_index()\n",
        "\n",
        "    plt.figure(figsize=(12, 6))\n",
        "    plt.plot(team_data['start_date'], team_data['runs'], label='Average Runs')\n",
        "    plt.title(f'{team} Batting Performance Trends Over Time (Team-wise)')\n",
        "    plt.xlabel('Start Date')\n",
        "    plt.ylabel('Average Runs')\n",
        "    plt.legend()\n",
        "    plt.show()\n",
        "    print(team_data)\n"
      ],
      "metadata": {
        "id": "AxA7cwJngCAi"
      },
      "execution_count": null,
      "outputs": []
    },
    {
      "cell_type": "markdown",
      "source": [
        "The above line plots shows the batting performance graph of each team over time. By observing these plots we can see the changes in the performances of teams with time."
      ],
      "metadata": {
        "id": "snJ-sUoem4hL"
      }
    },
    {
      "cell_type": "code",
      "source": [
        "# The line plots for bowling performance trends over time - Player-wise\n",
        "bowlers = df[df['bat_or_bowl'] == 'bowl']['player'].unique()\n",
        "\n",
        "for bowler in bowlers:\n",
        "    bowler_data = df[(df['player'] == bowler) & (df['bat_or_bowl'] == 'bowl')].groupby('start_date').agg({\n",
        "        'econ': 'mean',\n",
        "        'wkts': 'sum'\n",
        "    }).reset_index()\n",
        "\n",
        "    plt.figure(figsize=(12, 6))\n",
        "    plt.plot(bowler_data['start_date'], bowler_data['econ'], label='Average Economy')\n",
        "    plt.plot(bowler_data['start_date'], bowler_data['wkts'], label='Total Wickets Taken')\n",
        "    plt.title(f'{bowler} Bowling Performance Trends Over Time (Player-wise)')\n",
        "    plt.xlabel('Start Date')\n",
        "    plt.ylabel('Average Economy / Total Wickets Taken')\n",
        "    plt.legend()\n",
        "    plt.show()\n"
      ],
      "metadata": {
        "id": "mxW5r54DhaDI"
      },
      "execution_count": null,
      "outputs": []
    },
    {
      "cell_type": "markdown",
      "source": [
        "The above line plots shows the bowling performance of each team player over time in term of his wickets taken and average economy during bowling.\n",
        "By observing this we can conclude about the changes in bowling performances of players against time."
      ],
      "metadata": {
        "id": "1LfXnd8ir72o"
      }
    },
    {
      "cell_type": "code",
      "source": [
        "# The line plots for bowling performance trends over time - Team-wise\n",
        "for team in teams:\n",
        "    team_data = df[(df['team'] == team) & (df['bat_or_bowl'] == 'bowl')].groupby('start_date').agg({\n",
        "        'econ': 'mean',\n",
        "        'runs': 'sum',\n",
        "        'wkts': 'sum'\n",
        "    }).reset_index()\n",
        "\n",
        "    # Calculate bowling average (runs conceded per wicket)\n",
        "    team_data['bowling_avg'] = team_data['runs'] / team_data['wkts']\n",
        "\n",
        "    plt.figure(figsize=(12, 6))\n",
        "    plt.plot(team_data['start_date'], team_data['econ'], label='Average Economy')\n",
        "    plt.plot(team_data['start_date'], team_data['bowling_avg'], label='Bowling Average')\n",
        "    plt.title(f'{team} Bowling Performance Trends Over Time (Team-wise)')\n",
        "    plt.xlabel('Start Date')\n",
        "    plt.ylabel('Average Economy / Bowling Average')\n",
        "    plt.legend()\n",
        "    plt.show()\n",
        "    print(team_data)\n"
      ],
      "metadata": {
        "id": "WG0XEwQPhcvw"
      },
      "execution_count": null,
      "outputs": []
    },
    {
      "cell_type": "markdown",
      "source": [
        "The above line plots shows the bowling performance of each team over time in term of their wickets taken and average economy during bowling.\n",
        "By observing this we can conclude about the changes in bowling performances of teams against time."
      ],
      "metadata": {
        "id": "3AxCbpH9sUxT"
      }
    },
    {
      "cell_type": "code",
      "source": [],
      "metadata": {
        "id": "PqKaXW3khfL6"
      },
      "execution_count": null,
      "outputs": []
    }
  ]
}